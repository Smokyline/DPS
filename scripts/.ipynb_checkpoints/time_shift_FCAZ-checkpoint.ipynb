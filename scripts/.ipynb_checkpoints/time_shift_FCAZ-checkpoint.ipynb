{
 "cells": [
  {
   "cell_type": "code",
   "execution_count": 1,
   "metadata": {
    "collapsed": true
   },
   "outputs": [],
   "source": [
    "import os\n",
    "import time\n",
    "\n",
    "from fcaz_modules.drawData import visual_FCAZ\n",
    "from fcaz_modules.importData import ImportData\n",
    "from fcaz_modules.tools import *\n",
    "from main.dps_core import dps_clustering\n",
    "from main.tau_runner_mp import t_runner_mp\n",
    "\n",
    "\n",
    "def runDPSm_qIteration(desc_data, sph_data, save_path, epochs, Q, sample_eq):\n",
    "\n",
    "    dim_data = desc_data\n",
    "    twoDcoord = sph_data\n",
    "\n",
    "    if len(Q) == 1:\n",
    "        q_dir = '%s/q=%s/' % (save_path, Q[0])\n",
    "\n",
    "    else:\n",
    "        q_dir = '%s/q=[%s; %s]/' % (save_path, max(Q), min(Q))\n",
    "\n",
    "    if not os.path.exists(q_dir):\n",
    "        os.makedirs(q_dir, exist_ok=True)\n",
    "\n",
    "\n",
    "    iter = 1\n",
    "    idxX = np.arange(len(dim_data)).astype(int)\n",
    "    idx_Aclust = np.array([]).astype(int)\n",
    "    while True:\n",
    "        print('\\nQ=%s' % Q)\n",
    "\n",
    "        #beta, q = t_runner(dim_data[idxX], Q, beta_array)\n",
    "        beta, q = t_runner_mp(dim_data[idxX], Q, beta_array)\n",
    "\n",
    "\n",
    "        dps_set = dps_clustering(dim_data[idxX], beta, q, r=None)\n",
    "        Ax, Bx = idxX[dps_set[0]], idxX[dps_set[1]]\n",
    "        Ait_coord = twoDcoord[Ax]\n",
    "        Bit_coord = twoDcoord[Bx]\n",
    "\n",
    "        idx_Aclust = np.append(idx_Aclust, Ax)\n",
    "\n",
    "        title = 'it={}; q={}, r={}; b={}'.format(iter, q, round(dps_set[3], 4), beta)\n",
    "\n",
    "        visual_FCAZ(Bit_coord,twoDcoord[idx_Aclust],  EXT=None,\n",
    "                    eqs=sample_eq, eqs_labels=eq_labels, title=title, path=q_dir)\n",
    "\n",
    "        save_DPS_coord(Ait_coord, Bit_coord, path=q_dir, title='coord_it' + str(iter))\n",
    "\n",
    "        idxX = Bx\n",
    "\n",
    "        iter += 1\n",
    "        if iter > epochs or len(Bx) == 0:\n",
    "            print('final DPS cluster count: %s' % len(idx_Aclust))\n",
    "            save_DPS_coord(twoDcoord[idx_Aclust], twoDcoord[idxX], path=q_dir, title='coord_q=%s_final' % q)\n",
    "            break\n"
   ]
  },
  {
   "cell_type": "code",
   "execution_count": null,
   "metadata": {
    "collapsed": true
   },
   "outputs": [],
   "source": []
  }
 ],
 "metadata": {
  "kernelspec": {
   "display_name": "Python 3",
   "language": "python",
   "name": "python3"
  },
  "language_info": {
   "codemirror_mode": {
    "name": "ipython",
    "version": 3
   },
   "file_extension": ".py",
   "mimetype": "text/x-python",
   "name": "python",
   "nbconvert_exporter": "python",
   "pygments_lexer": "ipython3",
   "version": "3.6.3"
  }
 },
 "nbformat": 4,
 "nbformat_minor": 1
}
