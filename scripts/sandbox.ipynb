{
 "cells": [
  {
   "cell_type": "code",
   "execution_count": 1,
   "metadata": {
    "collapsed": true
   },
   "outputs": [],
   "source": [
    "import numpy as np"
   ]
  },
  {
   "cell_type": "code",
   "execution_count": 37,
   "metadata": {},
   "outputs": [
    {
     "name": "stdout",
     "output_type": "stream",
     "text": [
      "180\n[  0   1   2   3   4   5   6   7   8   9  10  11  12  13  14  15  16  17\n  18  19  20  21  22  23  24  25  26  27  28  29  30  31  32  33  34  35\n  36  37  38  39  40  41  42  43  44  45  46  47  48  49  50  51  52  53\n  54  55  56  57  58  59  60  61  62  63  64  65  66  67  68  69  70  71\n  72  73  74  75  76  77  78  79  80  81  82  83  84  85  86  87  88  89\n  90  91  92  93  94  95  96  97  98  99 100 101 102 103 104 105 106 107\n 108 109 110 111 112 113 114 115 116 117 118 119 120 121 122 123 124 125\n 126 127 128 129 130 131 132 133 134 135 136 137 138 139 140 141 142 143\n 144 145 146 147 148 149 150 151 152 153 154 155 156 157 158 159 160 161\n 162 163 164 165 166 167 168 169 170 171 172 173 174 175 176 177 178 179]\n"
     ]
    }
   ],
   "source": [
    "fs=np.arange(0, 180, 1)\n",
    "print(len(fs))\n",
    "print(fs)"
   ]
  },
  {
   "cell_type": "code",
   "execution_count": 34,
   "metadata": {},
   "outputs": [
    {
     "data": {
      "text/plain": [
       "array([ 0,  8, 16, 24, 32, 40, 48, 56, 64, 72, 80, 88])"
      ]
     },
     "execution_count": 34,
     "metadata": {},
     "output_type": "execute_result"
    }
   ],
   "source": [
    "integer_num = len(fs)//8\n",
    "np.arange(0, len(fs), 8)"
   ]
  },
  {
   "cell_type": "code",
   "execution_count": 38,
   "metadata": {},
   "outputs": [
    {
     "name": "stdout",
     "output_type": "stream",
     "text": [
      "[0 1 2 3 4 5 6 7]\n[ 8  9 10 11 12 13 14 15]\n[16 17 18 19 20 21 22 23]\n[24 25 26 27 28 29 30 31]\n[32 33 34 35 36 37 38 39]\n[40 41 42 43 44 45 46 47]\n[48 49 50 51 52 53 54 55]\n[56 57 58 59 60 61 62 63]\n[64 65 66 67 68 69 70 71]\n[72 73 74 75 76 77 78 79]\n[80 81 82 83 84 85 86 87]\n[88 89 90 91 92 93 94 95]\n[ 96  97  98  99 100 101 102 103]\n[104 105 106 107 108 109 110 111]\n[112 113 114 115 116 117 118 119]\n[120 121 122 123 124 125 126 127]\n[128 129 130 131 132 133 134 135]\n[136 137 138 139 140 141 142 143]\n[144 145 146 147 148 149 150 151]\n[152 153 154 155 156 157 158 159]\n[160 161 162 163 164 165 166 167]\n[168 169 170 171 172 173 174 175]\n[176 177 178 179]\n"
     ]
    }
   ],
   "source": [
    "for f_start in range(0, len(fs), 8):\n",
    "    print(fs[f_start:f_start+8])"
   ]
  },
  {
   "cell_type": "code",
   "execution_count": 40,
   "metadata": {},
   "outputs": [
    {
     "data": {
      "text/plain": [
       "array([], shape=(0, 2), dtype=float64)"
      ]
     },
     "execution_count": 40,
     "metadata": {},
     "output_type": "execute_result"
    }
   ],
   "source": [
    "np.empty((0, 2))"
   ]
  },
  {
   "cell_type": "code",
   "execution_count": null,
   "metadata": {},
   "outputs": [],
   "source": [
    ""
   ]
  }
 ],
 "metadata": {
  "kernelspec": {
   "display_name": "Python 2",
   "language": "python",
   "name": "python2"
  },
  "language_info": {
   "codemirror_mode": {
    "name": "ipython",
    "version": 2
   },
   "file_extension": ".py",
   "mimetype": "text/x-python",
   "name": "python",
   "nbconvert_exporter": "python",
   "pygments_lexer": "ipython2",
   "version": "2.7.6"
  }
 },
 "nbformat": 4,
 "nbformat_minor": 0
}
