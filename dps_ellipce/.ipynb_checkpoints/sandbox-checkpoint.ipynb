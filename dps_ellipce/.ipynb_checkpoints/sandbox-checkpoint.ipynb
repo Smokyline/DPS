{
 "cells": [
  {
   "cell_type": "code",
   "execution_count": 1,
   "metadata": {},
   "outputs": [],
   "source": [
    "import numpy as np"
   ]
  },
  {
   "cell_type": "code",
   "execution_count": 2,
   "metadata": {},
   "outputs": [],
   "source": [
    "def calc_focus_elli(a, b, centr):\n",
    "    c = np.sqrt((a) ** 2 - (b) ** 2)\n",
    "    return [centr[0]-c, centr[1]], [centr[0]+c, centr[1]]\n",
    "\n",
    "def rotate_focus_elli(f1, f2, angle, centr):\n",
    "    f_rotated = []\n",
    "    for f in [f1, f2]:\n",
    "        X = centr[0] + (f[0] - centr[0]) * np.cos(np.deg2rad(angle)) - (f[1] - centr[1]) * np.sin(np.deg2rad(angle))\n",
    "        Y = centr[1] + (f[1] - centr[1]) * np.cos(np.deg2rad(angle)) - (f[0] - centr[0]) * np.sin(np.deg2rad(angle))\n",
    "        f_rotated.append([X, Y])\n",
    "    return f_rotated[0], f_rotated[1]"
   ]
  },
  {
   "cell_type": "code",
   "execution_count": null,
   "metadata": {},
   "outputs": [],
   "source": [
    "def generate_ellipses(angle_tick, elli_lengths,):\n",
    "    x_min, x_max, y_min, y_max, delta = [v for v in xy_limits]\n",
    "    coordinates = list(product(np.arange(x_min, x_max, delta), np.arange(y_min, y_max, delta)))\n",
    "    grid_coord = np.array(coordinates)\n",
    "\n",
    "    angles = np.arange(0, 180, angle_tick)\n",
    "    #angles = [0, 15]\n",
    "    print(angles)\n",
    "    a, b = [v for v in np.array(elli_lengths)/2]\n",
    "\n",
    "    ellipses = []\n",
    "    for i, xy in enumerate(grid_coord):\n",
    "        x, y = xy\n",
    "        ellipse = [x, y, a, b]\n",
    "\n",
    "        f1, f2 = [], []\n",
    "        f1_original, f2_original = calc_focus_elli(a, b, xy)\n",
    "        for angle in angles:\n",
    "            f1_rot, f2_rot = rotate_focus_elli(f1_original, f2_original, -angle, centr=xy)\n",
    "            f1.append(f1_rot)\n",
    "            f2.append(f2_rot)\n",
    "        for value in [angles, f1, f2]:\n",
    "            ellipse.append(value)\n",
    "        ellipses.append(ellipse)\n",
    "    return ellipses"
   ]
  }
 ],
 "metadata": {
  "kernelspec": {
   "display_name": "Python 3",
   "language": "python",
   "name": "python3"
  },
  "language_info": {
   "codemirror_mode": {
    "name": "ipython",
    "version": 3
   },
   "file_extension": ".py",
   "mimetype": "text/x-python",
   "name": "python",
   "nbconvert_exporter": "python",
   "pygments_lexer": "ipython3",
   "version": "3.5.4"
  }
 },
 "nbformat": 4,
 "nbformat_minor": 1
}
